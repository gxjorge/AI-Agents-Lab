{
 "cells": [
  {
   "cell_type": "markdown",
   "metadata": {},
   "source": [
    "\n",
    "\n",
    "# Grounding with Bing\n",
    "**Grounding with Bing Search** allows your Azure AI Agents to incorporate real-time public web data when generating responses. You need to create a Grounding with Bing Search resource, and then connect this resource to your Azure AI Agents. When a user sends a query, Azure AI Agents decide if Grounding with Bing Search should be leveraged or not. If so, it will leverage Bing to search over public web data and return relevant chunks. Lastly, Azure AI Agents will use returned chunks to generate a response.  \n",
    "\n",
    "You can ask questions such as \"*what is the top news today*\" or \"*what is the recent update in the retail industry in the US?*\", which require real-time public data.\n",
    "\n",
    "Developers and end users don't have access to raw content returned from Grounding with Bing Search. The response, however, includes citations with links to the websites used to generate the response, and a link to the Bing query used for the search. These two *References* must be retained and displayed in the exact form provided by Microsoft, as per Grounding with Bing Search's [Use and Display Requirements](https://www.microsoft.com/en-us/bing/apis/grounding-legal#use-and-display-requirements). See the [how to display Grounding with Bing Search results](#how-to-display-grounding-with-bing-search-results) section for details.\n",
    "\n",
    ">[!IMPORTANT]\n",
    "> 1. Your usage of Grounding with Bing Search may incur costs. See the [pricing page](https://www.microsoft.com/bing/apis/grounding-pricing) for details.\n",
    "> 1. By creating and using a Grounding with Bing Search resource through code-first experience, such as Azure CLI, or deploying through deployment template, you agree to be bound by and comply with the terms available at https://www.microsoft.com/en-us/bing/apis/grounding-legal, which may be updated from time to time.\n",
    "\n",
    "\n",
    "## **Setup:**  \n",
    "\n",
    "> [!NOTE]\n",
    "> 1. Grounding with Bing Search only works with the following Azure OpenAI models: `gpt-3.5-turbo-0125`, `gpt-4-0125-preview`, `gpt-4-turbo-2024-04-09`, `gpt-4o-0513`\n",
    "\n",
    "1. Register the Bing Search provider.\n",
    "\n",
    "   ```console\n",
    "       az provider register --namespace 'Microsoft.Bing'\n",
    "   ```\n",
    "\n",
    "1. Create a new Grounding with Bing Search resource in the [Azure portal](https://portal.azure.com/#create/Microsoft.BingGroundingSearch), and select the different fields in the creation form. Make sure you create this Grounding with Bing Search resource in the same resource group as your Azure AI Agent, AI Project, and other resources.\n",
    "\n",
    "1. After you have created a Grounding with Bing Search resource, you can find it in [Azure portal](https://portal.azure.com/#home). Navigate to the resource group you've created the resource in, search for the Grounding with Bing Search resource you have created.\n",
    "\n",
    "   ![alt text](assets/img/resource-azure-portal.png)\n",
    "\n",
    "1. Select the Grounding with Bing Search resource you have created and copy any of the API keys.\n",
    "\n",
    "    ![alt text](assets/img/key-resource-azure-portal.png)\n",
    "\n",
    "1. Go to the [Azure AI Foundry portal](https://ai.azure.com/) and select the AI Project (make sure it's in the same resource group of your Grounding with Bing Search resource). Click **management center**.\n",
    "\n",
    "    ![alt text](assets/img/project-settings-button.png)\n",
    "\n",
    "1. Select **+ new connection** in the settings page. \n",
    "\n",
    "    >[!NOTE]\n",
    "    > If you re-generate the API key at a later date, you need to update the connection with the new key.\n",
    "\n",
    "    ![alt text](assets/img/project-connections.png)\n",
    "\n",
    "1. Select **API key** in **other resource types**.\n",
    "\n",
    "    ![alt text](assets/img/api-key-connection.png)\n",
    "\n",
    "1. Enter the following information and then create a new connection to your Grounding with Bing Search resource.\n",
    "\n",
    "    - Endpoint: `https://api.bing.microsoft.com/`\n",
    "    - Key: `YOUR_API_KEY`\n",
    "    - Connection name: `YOUR_CONNECTION_NAME` (You will use this connection name in the sample code below.)\n",
    "    - Access: you can choose either *this project only* or *shared to all projects*. Just make sure in the sample code below, the project you entered connection string for has access to this connection.\n",
    "\n",
    "Now that we have configured everything, let's create a client object, which will contain the connection string for connecting to your AI project and other resources. To make the Grounding with Bing search tool available to your agent, use a connection to initialize the tool and attach it to the agent. You can find your connection in the **connected resources** section of your project in the Azure AI Foundry portal.\n",
    "\n"
   ]
  },
  {
   "cell_type": "code",
   "execution_count": 1,
   "metadata": {},
   "outputs": [],
   "source": [
    "import os\n",
    "from azure.ai.projects import AIProjectClient\n",
    "from azure.identity import DefaultAzureCredential\n",
    "from azure.ai.projects.models import BingGroundingTool\n",
    "\n",
    "\n",
    "# Create an Azure AI Client from a connection string, copied from your Azure AI Foundry project.\n",
    "# At the moment, it should be in the format \"<HostName>;<AzureSubscriptionId>;<ResourceGroup>;<HubName>\"\n",
    "# Customer needs to login to Azure subscription via Azure CLI and set the environment variables\n",
    "\n",
    "project_client = AIProjectClient.from_connection_string(\n",
    "    credential=DefaultAzureCredential(),\n",
    "    conn_str=os.environ[\"PROJECT_CONNECTION_STRING\"],\n",
    ")"
   ]
  },
  {
   "cell_type": "code",
   "execution_count": 2,
   "metadata": {},
   "outputs": [
    {
     "name": "stdout",
     "output_type": "stream",
     "text": [
      "/subscriptions/3490bb6d-9e8c-46c5-b635-f8fea8df3d69/resourceGroups/agent-quickstart-rg2/providers/Microsoft.MachineLearningServices/workspaces/project-demo-agents-oaic/connections/bing_grounding\n",
      "Created agent, ID: asst_9nMPjXiesA2UFWP8rPGjmF3F\n"
     ]
    }
   ],
   "source": [
    "bing_connection = project_client.connections.get(\n",
    "    connection_name=os.environ[\"BING_CONNECTION_NAME\"]\n",
    ")\n",
    "conn_id = bing_connection.id\n",
    "\n",
    "print(conn_id)\n",
    "\n",
    "# Initialize agent bing tool and add the connection id\n",
    "bing = BingGroundingTool(connection_id=conn_id)\n",
    "\n",
    "# Create agent with the bing tool and process assistant run\n",
    "project_client.__enter__()\n",
    "agent = project_client.agents.create_agent(\n",
    "    model=\"gpt-4-turbo\",\n",
    "    name=\"my-assistant\",\n",
    "    instructions=\"You are a helpful assistant\",\n",
    "    tools=bing.definitions,\n",
    "    headers={\"x-ms-enable-preview\": \"true\"}\n",
    ")\n",
    "print(f\"Created agent, ID: {agent.id}\")"
   ]
  },
  {
   "cell_type": "code",
   "execution_count": 3,
   "metadata": {},
   "outputs": [
    {
     "name": "stdout",
     "output_type": "stream",
     "text": [
      "Created thread, ID: thread_nvz9nRB6xt0WMoiFMdvexjaD\n",
      "Created message, ID: msg_Z08PxBv6qPm3qWNfmY9iKoOd\n"
     ]
    }
   ],
   "source": [
    "# Create thread for communication\n",
    "thread = project_client.agents.create_thread()\n",
    "print(f\"Created thread, ID: {thread.id}\")\n",
    "\n",
    "# Create message to thread\n",
    "message = project_client.agents.create_message(\n",
    "    thread_id=thread.id,\n",
    "    role=\"user\",\n",
    "    content=\"What is the top news today\",\n",
    ")\n",
    "print(f\"Created message, ID: {message.id}\")"
   ]
  },
  {
   "cell_type": "code",
   "execution_count": 4,
   "metadata": {},
   "outputs": [
    {
     "name": "stdout",
     "output_type": "stream",
     "text": [
      "Run finished with status: completed\n",
      "Run ID: run_SUwSsszYEK4EnTiLLuIxdJ0Q\n",
      "Last run step detail: [{'id': 'step_oYnFq52ZF1XWQ7IZAuRMdaRQ', 'object': 'thread.run.step', 'created_at': 1736934865, 'run_id': 'run_SUwSsszYEK4EnTiLLuIxdJ0Q', 'assistant_id': 'asst_9nMPjXiesA2UFWP8rPGjmF3F', 'thread_id': 'thread_nvz9nRB6xt0WMoiFMdvexjaD', 'type': 'message_creation', 'status': 'completed', 'cancelled_at': None, 'completed_at': 1736934870, 'expires_at': None, 'failed_at': None, 'last_error': None, 'step_details': {'type': 'message_creation', 'message_creation': {'message_id': 'msg_WGds8HjJwNFgbNPae8IIWKtI'}}, 'usage': {'prompt_tokens': 1659, 'completion_tokens': 197, 'total_tokens': 1856}}, {'id': 'step_9spIN6KL3FVXS3042aLzkFHF', 'object': 'thread.run.step', 'created_at': 1736934864, 'run_id': 'run_SUwSsszYEK4EnTiLLuIxdJ0Q', 'assistant_id': 'asst_9nMPjXiesA2UFWP8rPGjmF3F', 'thread_id': 'thread_nvz9nRB6xt0WMoiFMdvexjaD', 'type': 'tool_calls', 'status': 'completed', 'cancelled_at': None, 'completed_at': 1736934865, 'expires_at': None, 'failed_at': None, 'last_error': None, 'step_details': {'type': 'tool_calls', 'tool_calls': [{'id': 'call_7xoXXOwFa0NKJTa5QcyhyuCI', 'type': 'bing_grounding', 'bing_grounding': {'requesturl': 'https://api.bing.microsoft.com/v7.0/search?q=\"top news today\", recency_days=1)\"'}}]}, 'usage': {'prompt_tokens': 270, 'completion_tokens': 18, 'total_tokens': 288}}, {'id': 'step_U5rPU5fMIB8AWPwquIE51nGS', 'object': 'thread.run.step', 'created_at': 1736934864, 'run_id': 'run_SUwSsszYEK4EnTiLLuIxdJ0Q', 'assistant_id': 'asst_9nMPjXiesA2UFWP8rPGjmF3F', 'thread_id': 'thread_nvz9nRB6xt0WMoiFMdvexjaD', 'type': 'tool_calls', 'status': 'completed', 'cancelled_at': None, 'completed_at': 1736934864, 'expires_at': None, 'failed_at': None, 'last_error': None, 'step_details': {'type': 'tool_calls', 'tool_calls': [{'id': 'call_BbQqyAgAnrLksFlbcspbhdM8', 'type': 'bing_grounding', 'bing_grounding': {'requesturl': 'https://api.bing.microsoft.com/v7.0/search?q=\"top news today\", recency_days=1)\"'}}]}, 'usage': {'prompt_tokens': 270, 'completion_tokens': 18, 'total_tokens': 288}}, {'id': 'step_V3SWs5bLCaAzacrdOKtpvjOH', 'object': 'thread.run.step', 'created_at': 1736934864, 'run_id': 'run_SUwSsszYEK4EnTiLLuIxdJ0Q', 'assistant_id': 'asst_9nMPjXiesA2UFWP8rPGjmF3F', 'thread_id': 'thread_nvz9nRB6xt0WMoiFMdvexjaD', 'type': 'tool_calls', 'status': 'completed', 'cancelled_at': None, 'completed_at': 1736934864, 'expires_at': None, 'failed_at': None, 'last_error': None, 'step_details': {'type': 'tool_calls', 'tool_calls': [{'id': 'call_pLS8IpDYWP8jEE6Y3l3rhsRo', 'type': 'bing_grounding', 'bing_grounding': {'requesturl': ''}}]}, 'usage': {'prompt_tokens': 270, 'completion_tokens': 18, 'total_tokens': 288}}]\n",
      "Messages: {'object': 'list', 'data': [{'id': 'msg_WGds8HjJwNFgbNPae8IIWKtI', 'object': 'thread.message', 'created_at': 1736934865, 'assistant_id': 'asst_9nMPjXiesA2UFWP8rPGjmF3F', 'thread_id': 'thread_nvz9nRB6xt0WMoiFMdvexjaD', 'run_id': 'run_SUwSsszYEK4EnTiLLuIxdJ0Q', 'role': 'assistant', 'content': [{'type': 'text', 'text': {'value': \"Today's top news includes several significant events:\\n\\n1. **Ukraine's Military Action Against Russia**: Ukraine has launched U.S. and British missiles at Russia, according to reports. This development marks a critical point in ongoing regional tensions【1†source】.\\n\\n2. **Wildfires in Los Angeles**: Firefighters in Los Angeles are preparing for strong winds that could exacerbate the growth of a large fire in the area【1†source】.\\n\\n3. **Biden's Executive Order on AI**: President Biden has issued an executive order aimed at establishing artificial intelligence data centers on federal land, which represents a move to bolster the nation's technological infrastructure【1†source】.\\n\\n4. **New National Monuments**: President Biden has designated two new national monuments in California, the Chuckwalla National Monument near Joshua Tree National Park, and the Sáttítla National Monument in Northern California【4†source】.\\n\\nThese are the most prominent stories making headlines today.\", 'annotations': [{'type': 'url_citation', 'text': '【1†source】', 'start_index': 252, 'end_index': 262, 'url_citation': {'url': 'https://www.ntd.com/ntd-news-today-full-broadcast-jan-14-4_1040547.html', 'title': 'NTD News Today Full Broadcast (Jan. 14)'}}, {'type': 'url_citation', 'text': '【1†source】', 'start_index': 417, 'end_index': 427, 'url_citation': {'url': 'https://www.ntd.com/ntd-news-today-full-broadcast-jan-14-4_1040547.html', 'title': 'NTD News Today Full Broadcast (Jan. 14)'}}, {'type': 'url_citation', 'text': '【1†source】', 'start_index': 666, 'end_index': 676, 'url_citation': {'url': 'https://www.ntd.com/ntd-news-today-full-broadcast-jan-14-4_1040547.html', 'title': 'NTD News Today Full Broadcast (Jan. 14)'}}, {'type': 'url_citation', 'text': '【4†source】', 'start_index': 905, 'end_index': 915, 'url_citation': {'url': 'https://www.pbs.org/newshour/politics/watch-live-biden-designates-chuckwalla-and-sattitla-highlands-national-monuments', 'title': 'WATCH LIVE: Biden designates Chuckwalla and Sáttítla Highlands ... - PBS'}}]}}], 'attachments': [], 'metadata': {}}, {'id': 'msg_Z08PxBv6qPm3qWNfmY9iKoOd', 'object': 'thread.message', 'created_at': 1736934856, 'assistant_id': None, 'thread_id': 'thread_nvz9nRB6xt0WMoiFMdvexjaD', 'run_id': None, 'role': 'user', 'content': [{'type': 'text', 'text': {'value': 'What is the top news today', 'annotations': []}}], 'attachments': [], 'metadata': {}}], 'first_id': 'msg_WGds8HjJwNFgbNPae8IIWKtI', 'last_id': 'msg_Z08PxBv6qPm3qWNfmY9iKoOd', 'has_more': False}\n"
     ]
    }
   ],
   "source": [
    "# Create and process agent run in thread with tools\n",
    "run = project_client.agents.create_and_process_run(thread_id=thread.id, assistant_id=agent.id)\n",
    "print(f\"Run finished with status: {run.status}\")\n",
    "print(f\"Run ID: {run.id}\")\n",
    "\n",
    "# Retrieve run step details to get Bing Search query link\n",
    "# To render the webpage, we recommend you replace the endpoint of Bing search query URLs with `www.bing.com` and your Bing search query URL would look like \"https://www.bing.com/search?q={search query}\"\n",
    "run_steps = project_client.agents.list_run_steps(run_id=run.id, thread_id=thread.id)\n",
    "run_steps_data = run_steps['data']\n",
    "print(f\"Last run step detail: {run_steps_data}\")\n",
    "\n",
    "if run.status == \"failed\":\n",
    "    print(f\"Run failed: {run.last_error}\")\n",
    "\n",
    "\n",
    "messages = project_client.agents.list_messages(thread_id=thread.id)\n",
    "print(f\"Messages: {messages}\")"
   ]
  },
  {
   "cell_type": "code",
   "execution_count": 5,
   "metadata": {},
   "outputs": [
    {
     "name": "stdout",
     "output_type": "stream",
     "text": [
      "Deleted agent\n"
     ]
    }
   ],
   "source": [
    "# Delete the agent once done\n",
    "project_client.agents.delete_agent(agent.id)\n",
    "print(\"Deleted agent\")\n",
    "project_client.__exit__(None, None, None)"
   ]
  },
  {
   "cell_type": "markdown",
   "metadata": {},
   "source": [
    "> **Important Considerations:** \n",
    ">    * According to Grounding with Bing's [terms of use and use and display requirements](https://www.microsoft.com/en-us/bing/apis/grounding-legal#use-and-display-requirements), you need to display both website URLs and Bing search query URLs in your custom interface. You can find website URLs through `annotations` parameter in API response and Bing search query URLs through `runstep` details. To render the webpage, we recommend you replace the endpoint of Bing search query URLs with `www.bing.com` and your Bing search query URL would look like \"https://www.bing.com/search?q={search query}\"\n",
    ">    * Microsoft will use data you send to Grounding with Bing to improve Microsoft products and services. Where you send personal data to this service, you are responsible for obtaining sufficient consent from the data subjects. The Data Protection Terms in the Online Services Terms do not apply to Grounding with Bing. "
   ]
  },
  {
   "cell_type": "markdown",
   "metadata": {},
   "source": [
    "### Grounding with AI Search\n",
    "\n",
    "### Grounding with file to assistant API"
   ]
  },
  {
   "cell_type": "markdown",
   "metadata": {},
   "source": []
  }
 ],
 "metadata": {
  "kernelspec": {
   "display_name": "Python 3",
   "language": "python",
   "name": "python3"
  },
  "language_info": {
   "codemirror_mode": {
    "name": "ipython",
    "version": 3
   },
   "file_extension": ".py",
   "mimetype": "text/x-python",
   "name": "python",
   "nbconvert_exporter": "python",
   "pygments_lexer": "ipython3",
   "version": "3.10.11"
  }
 },
 "nbformat": 4,
 "nbformat_minor": 2
}
