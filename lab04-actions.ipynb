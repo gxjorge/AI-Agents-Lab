{
 "cells": [
  {
   "cell_type": "markdown",
   "metadata": {},
   "source": [
    "# Getting started with the Azure Agent Service with the OpenAI SDK"
   ]
  },
  {
   "cell_type": "markdown",
   "metadata": {},
   "source": [
    "## Requirements\n"
   ]
  },
  {
   "cell_type": "code",
   "execution_count": null,
   "metadata": {},
   "outputs": [],
   "source": [
    "%pip install azure-ai-projects\n",
    "%pip install azure-identity\n",
    "%pip install python-dotenv\n",
    "%pip install openai"
   ]
  },
  {
   "cell_type": "code",
   "execution_count": null,
   "metadata": {},
   "outputs": [],
   "source": [
    "import os, time\n",
    "\n",
    "from pprint import pp as pp\n",
    "\n",
    "from dotenv import load_dotenv\n",
    "from azure.ai.projects import AIProjectClient\n",
    "from azure.identity import DefaultAzureCredential\n",
    "from azure.ai.projects.models import CodeInterpreterTool, BingGroundingTool\n",
    "\n",
    "from openai import AzureOpenAI\n",
    "\n",
    "# Load environment variables from .env file\n",
    "load_dotenv()\n",
    "\n",
    "# Print the environments we will be using.\n",
    "print(f\"PROJECT_CONNECTION_STRING: {os.getenv('PROJECT_CONNECTION_STRING')}\")\n",
    "print(f\"BING_CONNECTION_NAME: {os.getenv('BING_CONNECTION_NAME')}\")  "
   ]
  },
  {
   "cell_type": "markdown",
   "metadata": {},
   "source": [
    "Let's define some auxiliary functions we will use during this lab. One to do pretty print of the several objects agent service uses, and another way to execute an agent."
   ]
  },
  {
   "cell_type": "code",
   "execution_count": null,
   "metadata": {},
   "outputs": [],
   "source": [
    "def pprint(obj):    \n",
    "    pp(obj.as_dict() if hasattr(obj, \"as_dict\") else obj, width=100)\n",
    "\n",
    "def run(thread, assistant):\n",
    "    # run = project.agents.create_run(thread_id=thread.id, assistant_id=assistant.id)\n",
    "    run = project.agents.create_and_process_run(thread_id=thread.id, assistant_id=assistant.id)\n",
    "\n",
    "    while run.status in [\"queued\", \"in_progress\", \"requires_action\"]:\n",
    "        time.sleep(1)\n",
    "        run = project.agents.get_run(thread_id=thread.id, run_id=run.id)\n",
    "\n",
    "        if run.status not in [\"queued\", \"in_progress\", \"requires_action\"]:\n",
    "            break\n",
    "\n",
    "    return run  "
   ]
  },
  {
   "cell_type": "markdown",
   "metadata": {},
   "source": [
    "### Connecting to a project\n",
    "\n",
    "Agents are created in the context of an [Azure AI Foundry project](https://learn.microsoft.com/en-us/azure/ai-studio/concepts/architecture). In order to create one, first we need to connect to the project using a connection string provided in the Azure Foundry Portal.\n",
    "\n",
    " You can also find your connection string in the overview for your project in the Azure AI Foundry portal, under Project details > Project connection string.\n",
    "![Connection String](./assets/img/portal-connection-string.png \"Connection String\")"
   ]
  },
  {
   "cell_type": "markdown",
   "metadata": {},
   "source": [
    "Get a project reference using the current authenticated user and the connection string to the project where the agents will be created. "
   ]
  },
  {
   "cell_type": "code",
   "execution_count": null,
   "metadata": {},
   "outputs": [],
   "source": [
    "project = AIProjectClient.from_connection_string(\n",
    "    credential=DefaultAzureCredential(),\n",
    "    conn_str=os.environ[\"PROJECT_CONNECTION_STRING\"],\n",
    ")\n",
    "\n",
    "openai_client: AzureOpenAI = project.inference.get_azure_openai_client(\n",
    "    api_version=os.environ.get(\"AZURE_OPENAI_API_VERSION\"),\n",
    ")"
   ]
  },
  {
   "cell_type": "code",
   "execution_count": null,
   "metadata": {},
   "outputs": [],
   "source": [
    "for a in project.agents.list_agents().data:    \n",
    "    project.agents.delete_agent(a.id)\n",
    "    \n",
    "for a in openai_client.beta.assistants.list():\n",
    "    openai_client.beta.assistants.delete(a.id)"
   ]
  },
  {
   "cell_type": "markdown",
   "metadata": {},
   "source": [
    "### Creating Agents\n",
    "\n",
    "Now that we are connected to the project, let's create a very simple agent using **GPT-4o-mini** model as the agent _\"brain\"_. We are also providing instructions on how the agent should behave, adding a description and custom metadata fields. These metadata fields can be used to add custom information to find agents later for scenario with several agents."
   ]
  },
  {
   "cell_type": "code",
   "execution_count": null,
   "metadata": {},
   "outputs": [],
   "source": [
    "portfolio_agent = project.agents.create_agent(\n",
    "    model=\"gpt-4o-mini\",\n",
    "    name=\"Portfolio Guidance\",\n",
    "    instructions=\"You are a financial agent, providing portfolio guidance for users.\",\n",
    "    description=\"This agent was created to provide guidance for our users.\",\n",
    "    metadata= {\n",
    "        \"department\": \"finance\",\n",
    "        \"owner\": \"jdoe\"\n",
    "    }\n",
    ")\n",
    "pprint(portfolio_agent)"
   ]
  },
  {
   "cell_type": "markdown",
   "metadata": {},
   "source": [
    "Every agent is unique and has an id, which starts with the string _asst_. This id and can be used to retrieve the agent later.\n",
    "\n",
    "Let's create a second agent for the marketing team, but this one will be created using the OpenAI SDK. Even supporting the OpenAI SDK, the recommended SDK is the Agent Service SDK.\n",
    "Please, note that "
   ]
  },
  {
   "cell_type": "code",
   "execution_count": null,
   "metadata": {},
   "outputs": [],
   "source": [
    "branding_agent = openai_client.beta.assistants.create(\n",
    "    model=\"gpt-4o-mini\",\n",
    "    name=\"Branding Guidance\",\n",
    "    instructions=\"You are a marketing agent, providing guidance about the correct way to use our branding. Make sure to warn users that our logo must be at the same size as the other company logos.\"\n",
    ")\n",
    "pprint(branding_agent)"
   ]
  },
  {
   "cell_type": "markdown",
   "metadata": {},
   "source": [
    "Using the project object it is possible to list all agents in the project, delete an agent or update an agent.\n",
    "\n",
    "Right now we should have two agents created in the project."
   ]
  },
  {
   "cell_type": "code",
   "execution_count": null,
   "metadata": {},
   "outputs": [],
   "source": [
    "pprint(project.agents.list_agents())"
   ]
  },
  {
   "cell_type": "code",
   "execution_count": null,
   "metadata": {},
   "outputs": [],
   "source": [
    "pprint(openai_client.beta.assistants.list())"
   ]
  },
  {
   "cell_type": "markdown",
   "metadata": {},
   "source": [
    "Let's improve the instructions we provided for the portfolio agent."
   ]
  },
  {
   "cell_type": "code",
   "execution_count": null,
   "metadata": {},
   "outputs": [],
   "source": [
    "portfolio_agent = project.agents.update_agent(portfolio_agent.id, instructions=\"You are a financial agent, providing portfolio guidance for users. Avoid using too technical terms, and be clear about the risks.\")\n",
    "pprint(portfolio_agent)"
   ]
  },
  {
   "cell_type": "markdown",
   "metadata": {},
   "source": [
    "### Chatting with the Agent\n",
    "\n",
    "In order to chat with an agent, we need to create a **thread**. A thread is a **container** for messages, and there are two types of messages: messages created by the user or created by an agent.\n",
    "\n",
    "**Important!**\n",
    "1. If you don't save the thread id, you won't be able to recover the thread later. Keep this in mind, and save it to another database.\n",
    "2. A thread is not tied to an agent. **The same thread can be used by several agents**.\n",
    "3. Unless deleted manually, threads are kept forever.\n",
    "\n",
    "Jane wants to get information on how to invest her money, so let's create a thread for Jane.\n",
    "You can also add metadata for threads, and in this case we are adding the user id from Microsoft Entra."
   ]
  },
  {
   "cell_type": "code",
   "execution_count": null,
   "metadata": {},
   "outputs": [],
   "source": [
    "thread_jane = project.agents.create_thread(\n",
    "    metadata= {\n",
    "        \"entraUserId\": \"a1ddfd30-8420-4a8d-b155-4b5f05998d69\"\n",
    "    }\n",
    ")\n",
    "pprint(thread_jane)"
   ]
  },
  {
   "cell_type": "code",
   "execution_count": null,
   "metadata": {},
   "outputs": [],
   "source": [
    "message = project.agents.create_message(\n",
    "    thread_id=thread_jane.id,\n",
    "    role=\"user\",\n",
    "    content=\"What is the best option to invest my money?\",\n",
    ")\n",
    "pprint(message)"
   ]
  },
  {
   "cell_type": "code",
   "execution_count": null,
   "metadata": {},
   "outputs": [],
   "source": [
    "pprint(project.agents.list_messages(thread_jane.id))"
   ]
  },
  {
   "cell_type": "markdown",
   "metadata": {},
   "source": [
    "At this point, we created a thread containing only one message. As you can see, the thread or message are not linked to any assistant. You can validate that looking the **run_id** and **assistant_id** properties for messages where the role is **user**.\n",
    "\n",
    "Now, it's time to ask the agent to reason over the message the user sent and generate a reply. This is represented by a run object. To create a run we nee\n",
    "\n",
    "Let's create a simple Python function called run to abstract all"
   ]
  },
  {
   "cell_type": "code",
   "execution_count": null,
   "metadata": {},
   "outputs": [],
   "source": [
    "pprint(run(thread_jane, portfolio_agent))"
   ]
  },
  {
   "cell_type": "code",
   "execution_count": null,
   "metadata": {},
   "outputs": [],
   "source": [
    "pprint(project.agents.list_messages(thread_jane.id))"
   ]
  },
  {
   "cell_type": "markdown",
   "metadata": {},
   "source": [
    "Now, let's add a new message to the same thread."
   ]
  },
  {
   "cell_type": "code",
   "execution_count": null,
   "metadata": {},
   "outputs": [],
   "source": [
    "message = project.agents.create_message(\n",
    "    thread_id=thread_jane.id,\n",
    "    role=\"user\",\n",
    "    content=\"What are the branding guidelines I need to follow?\",\n",
    ")\n",
    "pprint(message)"
   ]
  },
  {
   "cell_type": "markdown",
   "metadata": {},
   "source": [
    "Let's see the "
   ]
  },
  {
   "cell_type": "code",
   "execution_count": null,
   "metadata": {},
   "outputs": [],
   "source": [
    "pprint(project.agents.list_messages(thread_jane.id))"
   ]
  },
  {
   "cell_type": "code",
   "execution_count": null,
   "metadata": {},
   "outputs": [],
   "source": [
    "pprint(run(thread_jane, branding_agent))"
   ]
  },
  {
   "cell_type": "code",
   "execution_count": null,
   "metadata": {},
   "outputs": [],
   "source": [
    "pprint(project.agents.list_messages(thread_jane.id))"
   ]
  },
  {
   "cell_type": "markdown",
   "metadata": {},
   "source": []
  },
  {
   "cell_type": "markdown",
   "metadata": {},
   "source": [
    "## Giving arms and legs to agents with tools\n",
    "\n",
    "An agent without any tool\n",
    "\n",
    "### Generating and executing code with Code Interpreter\n",
    "\n"
   ]
  },
  {
   "cell_type": "code",
   "execution_count": null,
   "metadata": {},
   "outputs": [],
   "source": [
    "code_interpreter = CodeInterpreterTool()\n",
    "\n",
    "portfolio_agent = project.agents.update_agent(portfolio_agent.id, tools=code_interpreter.definitions, tool_resources=code_interpreter.resources)\n",
    "pprint(portfolio_agent)"
   ]
  },
  {
   "cell_type": "code",
   "execution_count": null,
   "metadata": {},
   "outputs": [],
   "source": [
    "thread_bill = project.agents.create_thread(\n",
    "    metadata= {\n",
    "        \"entraUserId\": \"444dfd30-8420-4a8d-b155-4b5f05994545\"\n",
    "    }\n",
    ")\n",
    "pprint(thread_bill)"
   ]
  },
  {
   "cell_type": "code",
   "execution_count": null,
   "metadata": {},
   "outputs": [],
   "source": [
    "message = project.agents.create_message(\n",
    "    thread_id=thread_bill.id,\n",
    "    role=\"user\",\n",
    "    content=\"Create a bar chart for the operating profit using the following data and provide the file to me? Company A: $1.2 million, Company B: $2.5 million, Company C: $3.0 million, Company D: $1.8 million\",\n",
    ")\n",
    "pprint(message)"
   ]
  },
  {
   "cell_type": "code",
   "execution_count": null,
   "metadata": {},
   "outputs": [],
   "source": [
    "pprint(project.agents.list_messages(thread_bill.id))"
   ]
  },
  {
   "cell_type": "code",
   "execution_count": null,
   "metadata": {},
   "outputs": [],
   "source": [
    "pprint(run(thread_bill, portfolio_agent))"
   ]
  },
  {
   "cell_type": "code",
   "execution_count": null,
   "metadata": {},
   "outputs": [],
   "source": [
    "pprint(project.agents.list_messages(thread_bill.id))"
   ]
  },
  {
   "cell_type": "code",
   "execution_count": null,
   "metadata": {},
   "outputs": [],
   "source": [
    "pprint(project.agents.list_files())"
   ]
  },
  {
   "cell_type": "markdown",
   "metadata": {},
   "source": [
    "### Retrieving data from Internet using Bing Search"
   ]
  },
  {
   "cell_type": "code",
   "execution_count": null,
   "metadata": {},
   "outputs": [],
   "source": [
    "bing_connection = project.connections.get(\n",
    "    connection_name=\"api\"\n",
    ")\n",
    "\n",
    "bing = BingGroundingTool(connection_id=bing_connection.id)"
   ]
  },
  {
   "cell_type": "code",
   "execution_count": null,
   "metadata": {},
   "outputs": [],
   "source": [
    "news_agent = project.agents.create_agent(\n",
    "    model=\"gpt-4o-2024-08-06\",\n",
    "    name=\"News\",\n",
    "    instructions=\"You are a news agent, providing updated information for our users.\",\n",
    "    description=\"This agent was created to provide updated news for our users.\",\n",
    "    tools=bing.definitions,\n",
    "    metadata= {\n",
    "        \"department\": \"marketing\",\n",
    "        \"owner\": \"joanna\"\n",
    "    }\n",
    ")\n",
    "pprint(news_agent)"
   ]
  },
  {
   "cell_type": "code",
   "execution_count": null,
   "metadata": {},
   "outputs": [],
   "source": [
    "thread_alice = project.agents.create_thread(\n",
    "    metadata= {\n",
    "        \"entraUserId\": \"444dfd30-8420-4a8d-b155-4b5f05994545\"\n",
    "    }\n",
    ")\n",
    "pprint(thread_alice)"
   ]
  },
  {
   "cell_type": "code",
   "execution_count": null,
   "metadata": {},
   "outputs": [],
   "source": [
    "message = project.agents.create_message(\n",
    "    thread_id=thread_alice.id,\n",
    "    role=\"user\",\n",
    "    content=\"What is the latest news about quantum computing?\",\n",
    ")\n",
    "pprint(message)"
   ]
  },
  {
   "cell_type": "code",
   "execution_count": null,
   "metadata": {},
   "outputs": [],
   "source": [
    "pprint(run(thread_alice, news_agent))"
   ]
  },
  {
   "cell_type": "code",
   "execution_count": null,
   "metadata": {},
   "outputs": [],
   "source": [
    "pprint(project.agents.list_messages(thread_alice.id))"
   ]
  },
  {
   "cell_type": "markdown",
   "metadata": {},
   "source": [
    "### Using a custom function"
   ]
  }
 ],
 "metadata": {
  "language_info": {
   "name": "python"
  }
 },
 "nbformat": 4,
 "nbformat_minor": 2
}
