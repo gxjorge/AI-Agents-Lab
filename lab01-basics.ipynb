{
 "cells": [
  {
   "cell_type": "markdown",
   "metadata": {},
   "source": [
    "# Agents in Action: Transforming through Automation and Intelligence\n",
    "\n",
    "## Introduction to Agentic Systems\n",
    "\n",
    "In the rapidly evolving field of Artificial Intelligence, agentic systems represent a significant step forward in designing intelligent applications. These systems are composed of autonomous entities, known as agents, that can perceive their environment, make decisions, and act upon their environment to achieve specific goals.\n",
    "\n",
    "### What is an Agent?\n",
    "\n",
    "An *agent* can be defined as a software entity designed to autonomously or semi-autonomously with the following capabilities:\n",
    "\n",
    "- **Perceive**: Gather data from its environment through sensors or data inputs.\n",
    "- **Reason**: Process perceived information to make informed decisions based on its goals.\n",
    "- **Act**: Execute decisions by performing actions that influence their environment.\n",
    "- **Remember**: Store past experiences and information to inform future decisions, enabling learning and adaptation.\n",
    "\n",
    "#### Characteristics of Agents:\n",
    "\n",
    "1. **Autonomy**: Operates without direct human intervention.\n",
    "2. **Proactiveness**: Takes initiative to achieve goals.\n",
    "3. **Reactivity**: Responds to changes in its environment in real-time.\n",
    "4. **Event-Driven Behavior**: Reacts to specific events or changes in its environment, enabling real-time adaptability.\n",
    "5. **Social Ability**: Communicates with other agents or systems to collaborate.\n",
    "\n",
    "#### Autonomy\n",
    "\n",
    "Autonomy in the context of agents can be defined as freedom to:\n",
    "\n",
    "1. Define the steps it will execute to acomplish its goals.\n",
    "2. Define when it will execute. The trigger can be a schedule or an event in a\n",
    "\n",
    "### Applications of Agentic Systems\n",
    "\n",
    "Here are some use cases for agentic Systems in different sectors:\n",
    "* **Automotive & Transportation**\n",
    "    * _Autonomous Vehicles_\n",
    "        * Self-Driving Capabilities: AI agents use a combination of sensors, cameras, and machine learning algorithms to perceive the environment, make decisions, and control the vehicle. This includes tasks like lane keeping, obstacle detection, and adaptive cruise control.\n",
    "        * Improved Navigation: AI agents can analyze real-time traffic data, road conditions, and map information to optimize routes, reduce travel time, and improve fuel efficiency.\n",
    "        * Enhanced Safety Features: AI agents can monitor driver behavior, detect potential hazards, and take preventive actions such as automatic braking, lane departure warnings, and collision avoidance systems.\n",
    "    * _Predictive Maintenance_\n",
    "        * Vehicle Health Monitoring: AI agents continuously collect data from various sensors in the vehicle to monitor the condition of critical components like the engine, brakes, and transmission.\n",
    "        * Predicting Maintenance Needs: By analyzing historical data and current performance metrics, AI agents can predict when a component is likely to fail and schedule maintenance before a breakdown occurs.\n",
    "        * Scheduling Services: AI agents can automatically book service appointments, order necessary parts, and notify the owner, ensuring timely maintenance and reducing downtime.\n",
    "    * _Customer Experience_\n",
    "        * Personalized Recommendations: AI agents can analyze user preferences and driving habits to recommend features, services, and even new vehicles that match the customer’s needs.\n",
    "        * Vehicle Configuration Assistance: AI agents can guide customers through the process of configuring their vehicle, suggesting options and packages based on their preferences and budget.\n",
    "        * Enhanced Customer Service: AI agents can provide 24/7 support through chatbots and virtual assistants, answering questions, scheduling test drives, and providing updates on service status.\n",
    "    * Transportation\n",
    "    * Fleet Management\n",
    "        * Route Optimization: AI agents can analyze traffic conditions, delivery schedules, and vehicle locations to determine the most efficient routes, reducing fuel consumption and travel time.\n",
    "        * Schedule Management: AI agents can manage driver schedules, ensuring compliance with regulations and optimizing shift patterns to maximize productivity.\n",
    "        * Vehicle Health Monitoring: Similar to predictive maintenance in automotive, AI agents can monitor the health of fleet vehicles, predict maintenance needs, and schedule services to minimize downtime.\n",
    "    * _Traffic Management_\n",
    "        * Traffic Pattern Analysis: AI agents can analyze real-time traffic data from various sources to identify congestion patterns and predict traffic flow.\n",
    "        * Signal Timing Optimization: By adjusting traffic signal timings based on current traffic conditions, AI agents can reduce congestion and improve traffic flow.\n",
    "        * Congestion Management: AI agents can implement dynamic traffic management strategies, such as rerouting traffic, adjusting speed limits, and providing real-time traffic updates to drivers.\n",
    "    * _Logistics Optimization_\n",
    "        * Inventory Management: AI agents can forecast demand, manage stock levels, and automate reordering processes, ensuring that inventory is always at optimal levels.\n",
    "        * Demand Forecasting: By analyzing historical sales data and market trends, AI agents can predict future demand, helping businesses plan their logistics operations more effectively.\n",
    "        * Optimized Logistics: AI agents can plan and coordinate the movement of goods, optimizing routes, schedules, and load distribution to ensure timely delivery and reduce cost\n",
    "\n",
    "* Retail & Consumer Packaged Goods\n",
    "    * _Personalized Marketing_\n",
    "        * Customer Data Analysis: AI agents can analyze vast amounts of customer data, including purchase history, browsing behavior, and demographic information, to understand individual preferences and behaviors.\n",
    "        * Targeted Campaigns: Using this data, AI agents can create highly targeted marketing campaigns that resonate with specific customer segments, increasing engagement and conversion rates.\n",
    "        * Product Recommendations: AI agents can recommend products to customers based on their past purchases and browsing history, enhancing the shopping experience and boosting sales.\n",
    "        * Dynamic Pricing: AI agents can optimize pricing strategies by analyzing market trends, competitor pricing, and customer demand, ensuring competitive pricing while maximizing profits.\n",
    "    * _Inventory Management_\n",
    "        * Demand Forecasting: AI agents can predict future demand by analyzing historical sales data, market trends, and seasonal patterns, helping retailers maintain optimal inventory levels.\n",
    "        * Stock Level Management: AI agents can monitor stock levels in real-time, ensuring that popular items are always available and reducing the risk of overstocking or stockouts.\n",
    "        * Automated Reordering: When stock levels fall below a certain threshold, AI agents can automatically place reorders, streamlining the supply chain and reducing manual intervention.\n",
    "        * Waste Reduction: By accurately predicting demand and managing stock levels, AI agents can help reduce waste, particularly for perishable goods.\n",
    "    * _Customer Experience_\n",
    "        * Virtual Assistants: AI-powered virtual assistants can assist customers with their queries, provide product information, and guide them through the shopping process, enhancing customer satisfaction.\n",
    "        * Personalized Recommendations: AI agents can offer personalized product recommendations based on individual customer preferences and past behavior, making the shopping experience more enjoyable and relevant.\n",
    "        * Efficient Customer Service: AI agents can handle routine customer service tasks, such as answering FAQs, processing returns, and tracking orders, freeing up human agents to handle more complex issues.\n",
    "    * Consumer Packaged Goods (CPG)\n",
    "    * Supply Chain Optimization\n",
    "        * Demand Forecasting: AI agents can analyze sales data, market trends, and external factors (like weather or economic conditions) to accurately forecast demand, ensuring that supply meets demand.\n",
    "        * Inventory Management: AI agents can manage inventory levels across the supply chain, ensuring that products are available where and when they are needed, reducing stockouts and excess inventory.\n",
    "        * Logistics Optimization: AI agents can optimize logistics by planning efficient routes, consolidating shipments, and managing transportation schedules, reducing costs and improving delivery times.\n",
    "    * Product Development\n",
    "        * Market Trend Analysis: AI agents can analyze market trends, consumer feedback, and social media data to identify emerging trends and consumer preferences, guiding product development.\n",
    "        * Consumer Feedback Analysis: By analyzing customer reviews, surveys, and feedback, AI agents can identify areas for improvement in existing products and suggest new product ideas.\n",
    "        * Rapid Prototyping: AI agents can assist in the rapid prototyping and testing of new products, using data-driven insights to refine and improve product designs before full-scale production.\n",
    "    * Quality Control\n",
    "        * Production Monitoring: AI agents can monitor production processes in real-time, detecting any deviations from quality standards and alerting operators to potential issues.\n",
    "        * Defect Detection: Using advanced image recognition and machine learning algorithms, AI agents can detect defects in products during the manufacturing process, ensuring high-quality output.\n",
    "        * Process Optimization: AI agents can analyze production data to identify inefficiencies and suggest improvements, optimizing processes and reducing waste.\n",
    "\n",
    "* Finance\n",
    "    * Fraud Detection\n",
    "        * Transaction Data Analysis: AI agents can process vast amounts of transactional data to identify patterns and detect anomalies in real time.\n",
    "        * Detect Unusual Patterns: By using advanced machine learning algorithms, AI agents can flag transactions that deviate from normal behavior, signaling potential fraud.\n",
    "        * Prevent Fraud: Proactive monitoring and analysis by AI agents help prevent fraudulent activities before they escalate, ensuring financial security for customers.\n",
    "        * Customer Security: AI agents enhance customer trust by safeguarding sensitive financial data and ensuring secure transactions.\n",
    "    * Risk Management\n",
    "        * Analyze Market Data: AI agents can analyze diverse datasets, including market trends, economic indicators, and geopolitical events, to assess risks.\n",
    "        * Predict Trends: By leveraging predictive analytics, AI agents can forecast market movements and potential risks, enabling proactive decision-making.\n",
    "        * Insights and Recommendations: AI agents provide actionable insights and tailored recommendations for minimizing financial risks and maximizing returns.\n",
    "    * Customer Service\n",
    "        * Virtual Assistants: AI-powered virtual assistants can handle customer inquiries, provide account information, and resolve common issues efficiently.\n",
    "        * Process Transactions: AI agents can automate routine transactions, such as fund transfers and bill payments, reducing wait times and improving convenience.\n",
    "        * Provide Financial Advice: AI agents can offer personalized financial advice based on a customer’s financial history, goals, and risk appetite.\n",
    "    * Algorithmic Trading\n",
    "        * Analyze Market Conditions: AI agents analyze real-time market data to identify trading opportunities and potential risks.\n",
    "        * Execute Trades: AI agents can execute trades automatically, ensuring timely and accurate execution in fast-moving markets.\n",
    "        * Optimize Trading Strategies: By analyzing historical data and market trends, AI agents can refine and optimize trading algorithms for better outcomes.\n",
    "        * Reduce Human Error: Automation by AI agents minimizes the risk of human error, ensuring precise and consistent trading operations.\n",
    "    * Regulatory Compliance\n",
    "        * Monitor Transactions and Communications: AI agents ensure compliance by continuously monitoring financial transactions and communications for irregularities.\n",
    "        * Flag Suspicious Activities: AI agents can identify and flag potential compliance breaches or suspicious activities for further investigation.\n",
    "        * Automatically Report to Regulatory Authorities: AI agents streamline compliance processes by generating and submitting regulatory reports automatically, reducing manual effort.\n",
    "\n",
    "* Manufacturing \n",
    "    * Predictive Maintenance\n",
    "        * Machine Sensor Data Analysis: AI agents analyze real-time sensor data from machinery to identify patterns and anomalies that may indicate potential issues.\n",
    "        * Failure Prediction: By leveraging advanced machine learning models, AI agents can predict equipment failures before they occur, minimizing downtime.\n",
    "        * Preemptive Maintenance Scheduling: AI agents enable manufacturers to schedule maintenance proactively, reducing the risk of unexpected breakdowns and increasing operational efficiency.\n",
    "    * Energy Management\n",
    "        * Monitor Energy Usage: AI agents continuously monitor energy consumption across production facilities to identify inefficiencies.\n",
    "        * Optimize Usage: AI agents provide actionable insights to optimize energy use, reducing costs while maintaining operational requirements.\n",
    "        * Adjust Energy-Intensive Processes: By analyzing energy-intensive operations, AI agents can recommend adjustments to improve energy efficiency and   * sustainability.\n",
    "    * Process Automation\n",
    "        * Material Handling: AI agents automate material handling processes, ensuring precise and efficient movement of goods within facilities.\n",
    "        * Assembly Line Operations: AI agents enhance assembly line efficiency by automating repetitive tasks and monitoring workflows for bottlenecks or issues.\n",
    "    * Supply Chain Optimization\n",
    "        * Demand Forecasting: AI agents predict demand by analyzing historical sales data, market trends, and external factors, ensuring an optimized supply chain.\n",
    "        * Logistics Optimization: AI agents plan efficient logistics routes and schedules, reducing transportation costs and delivery times.\n",
    "        * Inventory Optimization: By analyzing stock levels and demand patterns, AI agents ensure the right products are available at the right time, minimizing overstock and stockouts.\n",
    "    * Product Development\n",
    "        * Market Trend Analysis: AI agents analyze market trends and consumer preferences to guide the development of new products.\n",
    "        * Consumer Feedback Analysis: By processing customer reviews and feedback, AI agents identify areas for product improvement and innovation.\n",
    "        * Rapid Prototyping: AI agents assist in designing and testing prototypes quickly, using data-driven insights to refine product designs.\n",
    "    * Quality Control\n",
    "        * Production Monitoring: AI agents monitor production processes in real-time to ensure adherence to quality standards.\n",
    "        * Defect Detection: Using advanced image recognition, AI agents detect defects in products during manufacturing, improving overall quality.\n",
    "        * Process Optimization: AI agents analyze production data to identify inefficiencies, streamline workflows, and reduce waste."
   ]
  },
  {
   "cell_type": "markdown",
   "metadata": {},
   "source": [
    "## Azure AI Agent Service\n",
    "\n",
    "The Azure AI Agent Service is a fully managed platform designed to enable developers to build, deploy, and manage intelligent agents efficiently. By leveraging Azure's ecosystem, developers can focus on the logic and behaviors of their agents without worrying about infrastructure and scalability challenges.\n",
    "\n",
    "### Key Features of Azure AI Agent Service\n",
    "\n",
    "1. **Agent Lifecycle Management**: Provides tools to simplify the development, deployment, and monitoring of agents across various environments.\n",
    "2. **Event-Driven Architecture**: Agents respond to triggers and events, enabling real-time decision-making and interactions.\n",
    "3. **Skill Integration and Orchestration**: Enables agents to connect and orchestrate multiple external tools, APIs, and services to extend their functionality.\n",
    "4. **State Management**: Supports memory and state retention to ensure agents can maintain context and continuity during interactions.\n",
    "5. **Multi-Modal Interactions**: Allows agents to interact through multiple channels, such as chat, voice, and APIs.\n",
    "6. **Security and Compliance**: Leverages Azure’s security features to ensure secure and compliant deployment.\n",
    "7. **Interoperability**: Seamlessly integrates with Azure OpenAI, Cognitive Services, and other Azure tools to create comprehensive solutions.\n",
    "8. **Low-Code/No-Code Options**: Empowers users with varying technical expertise to design and deploy agents using intuitive interfaces and pre-built templates.\n",
    "\n",
    "### How Azure AI Agent Service Works\n",
    "\n",
    "Within Azure AI Foundry, an AI Agent acts as a \"smart\" microservice that can be used to answer questions (RAG), perform actions, or completely automate workflows. It achieves this by combining the power of generative AI models with tools that allow it to access and interact with real-world data sources.\n",
    "\n",
    "Because Azure AI Agent Service uses the same wire protocol as Azure OpenAI Assistants, you can use either OpenAI SDKs or Azure AI Foundry SDKs to create and run an agent in just a few lines of code. \n",
    "\n",
    "Let's do a quick recap of the concepts we will need to understand to use the Azure AI Agent Service with the OpenAI SDK or the AI Foundry SDK:\n",
    "\n",
    "* **Agent / Assistant***: An AI entity that uses AI models in conjunction with tools. It can be instructed and controlled to perform various tasks.\n",
    "* **Tool**:\tTools help extend an agent’s ability to reliably and accurately respond during conversation. Such as connecting to user-defined knowledge bases to ground the model, or enabling web search to provide current information.\n",
    "* **Thread**: Represents a conversation session between an AI entity (or Agent) and another agent or user. It stores messages and handles truncation to fit content into a model’s context.\t\n",
    "* **Message**:  A message created by an agent or a user. Messages can include text, images, and other files. Messages are stored as a list on the Thread.\n",
    "* **Run**: Activation of an agent to begin running based on the contents of Thread. The agent uses its configuration and Thread’s Messages to perform tasks by calling models and tools. As part of a Run, the agent appends Messages to the Thread.\n",
    "* **Run Step**: A detailed list of steps the agent took as part of a Run. An agent can call tools or create Messages during its run. Examining Run Steps allows you to understand how the agent is getting to its results.\n",
    "\n",
    "Azure AI Agent Service provides a more streamlined and secure way to build and deploy AI agents. This includes:\n",
    "* Automatic tool calling – no need to parse a tool call, invoke the tool, and handle the response; all of this is now done server-side\n",
    "* Securely managed data – instead of managing your own conversation state, you can rely on threads to store all the information you need\n",
    "* Out-of-the-box tools – In addition to the file retrieval and code interpreter tools provided by Azure OpenAI Assistants, Azure AI Agent Service also comes with a set of tools that you can use to interact with your data sources, such as Bing, Azure AI Search, and Azure Functions.\n"
   ]
  },
  {
   "cell_type": "markdown",
   "metadata": {},
   "source": [
    "# Getting started with the Azure Agent Service with the OpenAI SDK"
   ]
  },
  {
   "cell_type": "markdown",
   "metadata": {},
   "source": [
    "## Prerequisites\n",
    "* An Azure subscription \n",
    "* Python 3.8 or later\n",
    "* Make sure you have the Azure AI Developer RBAC role assigned at the appropriate level.\n",
    "* [Install the Azure CLI and the machine learning extension](https://learn.microsoft.com/en-us/azure/machine-learning/how-to-configure-cli?view=azureml-api-2&tabs=public). If you have the CLI already installed, make sure it's updated to the latest version."
   ]
  },
  {
   "cell_type": "markdown",
   "metadata": {},
   "source": [
    "## Requirements\n"
   ]
  },
  {
   "cell_type": "code",
   "execution_count": 1,
   "metadata": {},
   "outputs": [
    {
     "name": "stdout",
     "output_type": "stream",
     "text": [
      "Requirement already satisfied: azure-ai-projects in /home/codespace/.local/lib/python3.12/site-packages (1.0.0b4)\n",
      "Requirement already satisfied: isodate>=0.6.1 in /home/codespace/.local/lib/python3.12/site-packages (from azure-ai-projects) (0.7.2)\n",
      "Requirement already satisfied: azure-core>=1.30.0 in /home/codespace/.local/lib/python3.12/site-packages (from azure-ai-projects) (1.32.0)\n",
      "Requirement already satisfied: typing-extensions>=4.12.2 in /home/codespace/.local/lib/python3.12/site-packages (from azure-ai-projects) (4.12.2)\n",
      "Requirement already satisfied: requests>=2.21.0 in /home/codespace/.local/lib/python3.12/site-packages (from azure-core>=1.30.0->azure-ai-projects) (2.32.3)\n",
      "Requirement already satisfied: six>=1.11.0 in /home/codespace/.local/lib/python3.12/site-packages (from azure-core>=1.30.0->azure-ai-projects) (1.17.0)\n",
      "Requirement already satisfied: charset-normalizer<4,>=2 in /home/codespace/.local/lib/python3.12/site-packages (from requests>=2.21.0->azure-core>=1.30.0->azure-ai-projects) (3.4.1)\n",
      "Requirement already satisfied: idna<4,>=2.5 in /home/codespace/.local/lib/python3.12/site-packages (from requests>=2.21.0->azure-core>=1.30.0->azure-ai-projects) (3.10)\n",
      "Requirement already satisfied: urllib3<3,>=1.21.1 in /home/codespace/.local/lib/python3.12/site-packages (from requests>=2.21.0->azure-core>=1.30.0->azure-ai-projects) (2.3.0)\n",
      "Requirement already satisfied: certifi>=2017.4.17 in /home/codespace/.local/lib/python3.12/site-packages (from requests>=2.21.0->azure-core>=1.30.0->azure-ai-projects) (2024.8.30)\n",
      "Note: you may need to restart the kernel to use updated packages.\n",
      "Requirement already satisfied: azure-identity in /home/codespace/.local/lib/python3.12/site-packages (1.19.0)\n",
      "Requirement already satisfied: azure-core>=1.31.0 in /home/codespace/.local/lib/python3.12/site-packages (from azure-identity) (1.32.0)\n",
      "Requirement already satisfied: cryptography>=2.5 in /home/codespace/.local/lib/python3.12/site-packages (from azure-identity) (44.0.0)\n",
      "Requirement already satisfied: msal>=1.30.0 in /home/codespace/.local/lib/python3.12/site-packages (from azure-identity) (1.31.1)\n",
      "Requirement already satisfied: msal-extensions>=1.2.0 in /home/codespace/.local/lib/python3.12/site-packages (from azure-identity) (1.2.0)\n",
      "Requirement already satisfied: typing-extensions>=4.0.0 in /home/codespace/.local/lib/python3.12/site-packages (from azure-identity) (4.12.2)\n",
      "Requirement already satisfied: requests>=2.21.0 in /home/codespace/.local/lib/python3.12/site-packages (from azure-core>=1.31.0->azure-identity) (2.32.3)\n",
      "Requirement already satisfied: six>=1.11.0 in /home/codespace/.local/lib/python3.12/site-packages (from azure-core>=1.31.0->azure-identity) (1.17.0)\n",
      "Requirement already satisfied: cffi>=1.12 in /home/codespace/.local/lib/python3.12/site-packages (from cryptography>=2.5->azure-identity) (1.17.1)\n",
      "Requirement already satisfied: PyJWT<3,>=1.0.0 in /home/codespace/.local/lib/python3.12/site-packages (from PyJWT[crypto]<3,>=1.0.0->msal>=1.30.0->azure-identity) (2.10.1)\n",
      "Requirement already satisfied: portalocker<3,>=1.4 in /home/codespace/.local/lib/python3.12/site-packages (from msal-extensions>=1.2.0->azure-identity) (2.10.1)\n",
      "Requirement already satisfied: pycparser in /home/codespace/.local/lib/python3.12/site-packages (from cffi>=1.12->cryptography>=2.5->azure-identity) (2.22)\n",
      "Requirement already satisfied: charset-normalizer<4,>=2 in /home/codespace/.local/lib/python3.12/site-packages (from requests>=2.21.0->azure-core>=1.31.0->azure-identity) (3.4.1)\n",
      "Requirement already satisfied: idna<4,>=2.5 in /home/codespace/.local/lib/python3.12/site-packages (from requests>=2.21.0->azure-core>=1.31.0->azure-identity) (3.10)\n",
      "Requirement already satisfied: urllib3<3,>=1.21.1 in /home/codespace/.local/lib/python3.12/site-packages (from requests>=2.21.0->azure-core>=1.31.0->azure-identity) (2.3.0)\n",
      "Requirement already satisfied: certifi>=2017.4.17 in /home/codespace/.local/lib/python3.12/site-packages (from requests>=2.21.0->azure-core>=1.31.0->azure-identity) (2024.8.30)\n",
      "Note: you may need to restart the kernel to use updated packages.\n"
     ]
    }
   ],
   "source": [
    "%pip install azure-ai-projects\n",
    "%pip install azure-identity"
   ]
  },
  {
   "cell_type": "code",
   "execution_count": 2,
   "metadata": {},
   "outputs": [
    {
     "name": "stdout",
     "output_type": "stream",
     "text": [
      "PROJECT_CONNECTION_STRING: eastus2.api.azureml.ms;7bc20c30-6213-4606-971c-d16c2a53921f;ai-bla;project-demo-r3zu\n",
      "BING_CONNECTION_NAME: api\n"
     ]
    }
   ],
   "source": [
    "import os, time\n",
    "\n",
    "from pprint import pp as pp\n",
    "\n",
    "from dotenv import load_dotenv\n",
    "from azure.ai.projects import AIProjectClient\n",
    "from azure.identity import DefaultAzureCredential\n",
    "from azure.ai.projects.models import CodeInterpreterTool, BingGroundingTool\n",
    "\n",
    "from openai import AzureOpenAI\n",
    "\n",
    "# Load environment variables from .env file\n",
    "load_dotenv()\n",
    "\n",
    "# Print the environments we will be using.\n",
    "print(f\"PROJECT_CONNECTION_STRING: {os.getenv(\"PROJECT_CONNECTION_STRING\")}\")\n",
    "print(f\"BING_CONNECTION_NAME: {os.getenv(\"BING_CONNECTION_NAME\")}\")  "
   ]
  },
  {
   "cell_type": "markdown",
   "metadata": {},
   "source": [
    "Let's define some auxiliary functions we will use during this lab. One to do pretty print of the several objects agent service uses, and another way to execute an agent."
   ]
  },
  {
   "cell_type": "code",
   "execution_count": 3,
   "metadata": {},
   "outputs": [],
   "source": [
    "def pprint(obj):\n",
    "    pp(obj.as_dict(), width=100)\n",
    "\n",
    "def run(thread, assistant):\n",
    "    # run = project.agents.create_run(thread_id=thread.id, assistant_id=assistant.id)\n",
    "    run = project.agents.create_and_process_run(thread_id=thread.id, assistant_id=assistant.id)\n",
    "\n",
    "    while run.status in [\"queued\", \"in_progress\", \"requires_action\"]:\n",
    "        time.sleep(1)\n",
    "        run = project.agents.get_run(thread_id=thread.id, run_id=run.id)\n",
    "\n",
    "        if run.status not in [\"queued\", \"in_progress\", \"requires_action\"]:\n",
    "            break\n",
    "\n",
    "    return run  "
   ]
  },
  {
   "cell_type": "markdown",
   "metadata": {},
   "source": [
    "### Connecting to a project\n",
    "\n",
    "Agents are created in the context of an [Azure AI Foundry project](https://learn.microsoft.com/en-us/azure/ai-studio/concepts/architecture). In order to create one, first we need to connect to the project using a connection string provided in the Azure Foundry Portal.\n",
    "\n",
    " You can also find your connection string in the overview for your project in the Azure AI Foundry portal, under Project details > Project connection string.\n",
    "![Connection String](./assets/img/portal-connection-string.png \"Connection String\")"
   ]
  },
  {
   "cell_type": "markdown",
   "metadata": {},
   "source": [
    "Get a project reference using the current authenticated user and the connection string to the project where the agents will be created. "
   ]
  },
  {
   "cell_type": "code",
   "execution_count": 4,
   "metadata": {},
   "outputs": [],
   "source": [
    "project = AIProjectClient.from_connection_string(\n",
    "    credential=DefaultAzureCredential(),\n",
    "    conn_str=os.environ[\"PROJECT_CONNECTION_STRING\"],\n",
    ")"
   ]
  },
  {
   "cell_type": "code",
   "execution_count": 5,
   "metadata": {},
   "outputs": [],
   "source": [
    "for a in project.agents.list_agents().data:\n",
    "    project.agents.delete_agent(a.id)"
   ]
  },
  {
   "cell_type": "markdown",
   "metadata": {},
   "source": [
    "### Creating Agents\n",
    "\n",
    "Now that we are connected to the project, let's create a very simple agent using **GPT-4o-mini** model as the agent _\"brain\"_. We are also providing instructions on how the agent should behave, adding a description and custom metadata fields. These metadata fields can be used to add custom information to find agents later for scenario with several agents."
   ]
  },
  {
   "cell_type": "code",
   "execution_count": 6,
   "metadata": {},
   "outputs": [
    {
     "name": "stdout",
     "output_type": "stream",
     "text": [
      "{'id': 'asst_sgLTaEs43HwJZaMA1krFiD90',\n",
      " 'object': 'assistant',\n",
      " 'created_at': 1736762036,\n",
      " 'name': 'Portfolio Guidance',\n",
      " 'description': 'This agent was created to provide guidance for our users.',\n",
      " 'model': 'gpt-4o-mini',\n",
      " 'instructions': 'You are a financial agent, providing portfolio guidance for users.',\n",
      " 'tools': [],\n",
      " 'top_p': 1.0,\n",
      " 'temperature': 1.0,\n",
      " 'tool_resources': {},\n",
      " 'metadata': {'department': 'finance', 'owner': 'jdoe'},\n",
      " 'response_format': 'auto'}\n"
     ]
    }
   ],
   "source": [
    "portfolio_agent = project.agents.create_agent(\n",
    "    model=\"gpt-4o-mini\",\n",
    "    name=\"Portfolio Guidance\",\n",
    "    instructions=\"You are a financial agent, providing portfolio guidance for users.\",\n",
    "    description=\"This agent was created to provide guidance for our users.\",\n",
    "    metadata= {\n",
    "        \"department\": \"finance\",\n",
    "        \"owner\": \"jdoe\"\n",
    "    }\n",
    ")\n",
    "pprint(portfolio_agent)"
   ]
  },
  {
   "cell_type": "markdown",
   "metadata": {},
   "source": [
    "Every agent is unique and has an id, which starts with the string _asst_. This id and can be used to retrieve the agent later.\n",
    "\n",
    "Let's create a second agent, now one for the marketing team."
   ]
  },
  {
   "cell_type": "code",
   "execution_count": 7,
   "metadata": {},
   "outputs": [
    {
     "name": "stdout",
     "output_type": "stream",
     "text": [
      "{'id': 'asst_9vR3MChPf4PUa4c5DZzUWnGe',\n",
      " 'object': 'assistant',\n",
      " 'created_at': 1736762044,\n",
      " 'name': 'Branding Guidance',\n",
      " 'description': 'This agent was created to provide guidance for our users.',\n",
      " 'model': 'gpt-4o-mini',\n",
      " 'instructions': 'You are a marketing agent, providing guidance about the correct way to use our '\n",
      "                 'branding. Make sure to warn users that our logo must be at the same size as the '\n",
      "                 'other company logos.',\n",
      " 'tools': [],\n",
      " 'top_p': 1.0,\n",
      " 'temperature': 1.0,\n",
      " 'tool_resources': {},\n",
      " 'metadata': {'department': 'marketing', 'owner': 'janer'},\n",
      " 'response_format': 'auto'}\n"
     ]
    }
   ],
   "source": [
    "branding_agent = project.agents.create_agent(\n",
    "    model=\"gpt-4o-mini\",\n",
    "    name=\"Branding Guidance\",\n",
    "    instructions=\"You are a marketing agent, providing guidance about the correct way to use our branding. Make sure to warn users that our logo must be at the same size as the other company logos.\",\n",
    "    description=\"This agent was created to provide guidance for our users.\",\n",
    "    metadata= {\n",
    "        \"department\": \"marketing\",\n",
    "        \"owner\": \"janer\"\n",
    "    }\n",
    ")\n",
    "pprint(branding_agent)"
   ]
  },
  {
   "cell_type": "markdown",
   "metadata": {},
   "source": [
    "Using the project object it is possible to list all agents in the project, delete an agent or update an agent.\n",
    "\n",
    "Right now we should have two agents created in the project."
   ]
  },
  {
   "cell_type": "code",
   "execution_count": 17,
   "metadata": {},
   "outputs": [
    {
     "name": "stdout",
     "output_type": "stream",
     "text": [
      "{'object': 'list',\n",
      " 'data': [{'id': 'asst_9vR3MChPf4PUa4c5DZzUWnGe',\n",
      "           'object': 'assistant',\n",
      "           'created_at': 1736762044,\n",
      "           'name': 'Branding Guidance',\n",
      "           'description': 'This agent was created to provide guidance for our users.',\n",
      "           'model': 'gpt-4o-mini',\n",
      "           'instructions': 'You are a marketing agent, providing guidance about the correct way to '\n",
      "                           'use our branding. Make sure to warn users that our logo must be at the '\n",
      "                           'same size as the other company logos.',\n",
      "           'tools': [],\n",
      "           'top_p': 1.0,\n",
      "           'temperature': 1.0,\n",
      "           'tool_resources': {},\n",
      "           'metadata': {'department': 'marketing', 'owner': 'janer'},\n",
      "           'response_format': 'auto'},\n",
      "          {'id': 'asst_sgLTaEs43HwJZaMA1krFiD90',\n",
      "           'object': 'assistant',\n",
      "           'created_at': 1736762036,\n",
      "           'name': 'Portfolio Guidance',\n",
      "           'description': 'This agent was created to provide guidance for our users.',\n",
      "           'model': 'gpt-4o-mini',\n",
      "           'instructions': 'You are a financial agent, providing portfolio guidance for users. '\n",
      "                           'Avoid using too technical terms, and be clear about the risks.',\n",
      "           'tools': [],\n",
      "           'top_p': 1.0,\n",
      "           'temperature': 1.0,\n",
      "           'tool_resources': {},\n",
      "           'metadata': {'department': 'finance', 'owner': 'jdoe'},\n",
      "           'response_format': 'auto'}],\n",
      " 'first_id': 'asst_9vR3MChPf4PUa4c5DZzUWnGe',\n",
      " 'last_id': 'asst_sgLTaEs43HwJZaMA1krFiD90',\n",
      " 'has_more': False}\n"
     ]
    }
   ],
   "source": [
    "pprint(project.agents.list_agents())"
   ]
  },
  {
   "cell_type": "markdown",
   "metadata": {},
   "source": [
    "Let's improve the instructions we provided for the portfolio agent."
   ]
  },
  {
   "cell_type": "code",
   "execution_count": 9,
   "metadata": {},
   "outputs": [
    {
     "name": "stdout",
     "output_type": "stream",
     "text": [
      "{'id': 'asst_sgLTaEs43HwJZaMA1krFiD90',\n",
      " 'object': 'assistant',\n",
      " 'created_at': 1736762036,\n",
      " 'name': 'Portfolio Guidance',\n",
      " 'description': 'This agent was created to provide guidance for our users.',\n",
      " 'model': 'gpt-4o-mini',\n",
      " 'instructions': 'You are a financial agent, providing portfolio guidance for users. Avoid using '\n",
      "                 'too technical terms, and be clear about the risks.',\n",
      " 'tools': [],\n",
      " 'top_p': 1.0,\n",
      " 'temperature': 1.0,\n",
      " 'tool_resources': {},\n",
      " 'metadata': {'department': 'finance', 'owner': 'jdoe'},\n",
      " 'response_format': 'auto'}\n"
     ]
    }
   ],
   "source": [
    "portfolio_agent = project.agents.update_agent(portfolio_agent.id, instructions=\"You are a financial agent, providing portfolio guidance for users. Avoid using too technical terms, and be clear about the risks.\")\n",
    "pprint(portfolio_agent)"
   ]
  },
  {
   "cell_type": "markdown",
   "metadata": {},
   "source": [
    "### Chatting with the Agent\n",
    "\n",
    "In order to chat with an agent, we need to create a **thread**. A thread is a **container** for messages, and there are two types of messages: messages created by the user or created by an agent.\n",
    "\n",
    "**Important!**\n",
    "1. If you don't save the thread id, you won't be able to recover the thread later. Keep this in mind, and save it to another database.\n",
    "2. A thread is not tied to an agent. **The same thread can be used by several agents**.\n",
    "3. Unless deleted manually, threads are kept forever.\n",
    "\n",
    "Jane wants to get information on how to invest her money, so let's create a thread for Jane.\n",
    "You can also add metadata for threads, and in this case we are adding the user id from Microsoft Entra."
   ]
  },
  {
   "cell_type": "code",
   "execution_count": 10,
   "metadata": {},
   "outputs": [
    {
     "name": "stdout",
     "output_type": "stream",
     "text": [
      "{'id': 'thread_hPoaxCoU76zyHK6m0xYQRogH',\n",
      " 'object': 'thread',\n",
      " 'created_at': 1736762072,\n",
      " 'metadata': {'entraUserId': 'a1ddfd30-8420-4a8d-b155-4b5f05998d69'},\n",
      " 'tool_resources': {}}\n"
     ]
    }
   ],
   "source": [
    "thread_jane = project.agents.create_thread(\n",
    "    metadata= {\n",
    "        \"entraUserId\": \"a1ddfd30-8420-4a8d-b155-4b5f05998d69\"\n",
    "    }\n",
    ")\n",
    "pprint(thread_jane)"
   ]
  },
  {
   "cell_type": "code",
   "execution_count": 11,
   "metadata": {},
   "outputs": [
    {
     "name": "stdout",
     "output_type": "stream",
     "text": [
      "{'id': 'msg_m14XNzpojDiloOieCdOQXbE6',\n",
      " 'object': 'thread.message',\n",
      " 'created_at': 1736762077,\n",
      " 'assistant_id': None,\n",
      " 'thread_id': 'thread_hPoaxCoU76zyHK6m0xYQRogH',\n",
      " 'run_id': None,\n",
      " 'role': 'user',\n",
      " 'content': [{'type': 'text',\n",
      "              'text': {'value': 'What is the best option to invest my money?', 'annotations': []}}],\n",
      " 'attachments': [],\n",
      " 'metadata': {}}\n"
     ]
    }
   ],
   "source": [
    "message = project.agents.create_message(\n",
    "    thread_id=thread_jane.id,\n",
    "    role=\"user\",\n",
    "    content=\"What is the best option to invest my money?\",\n",
    ")\n",
    "pprint(message)"
   ]
  },
  {
   "cell_type": "code",
   "execution_count": 12,
   "metadata": {},
   "outputs": [
    {
     "name": "stdout",
     "output_type": "stream",
     "text": [
      "{'object': 'list',\n",
      " 'data': [{'id': 'msg_m14XNzpojDiloOieCdOQXbE6',\n",
      "           'object': 'thread.message',\n",
      "           'created_at': 1736762077,\n",
      "           'assistant_id': None,\n",
      "           'thread_id': 'thread_hPoaxCoU76zyHK6m0xYQRogH',\n",
      "           'run_id': None,\n",
      "           'role': 'user',\n",
      "           'content': [{'type': 'text',\n",
      "                        'text': {'value': 'What is the best option to invest my money?',\n",
      "                                 'annotations': []}}],\n",
      "           'attachments': [],\n",
      "           'metadata': {}}],\n",
      " 'first_id': 'msg_m14XNzpojDiloOieCdOQXbE6',\n",
      " 'last_id': 'msg_m14XNzpojDiloOieCdOQXbE6',\n",
      " 'has_more': False}\n"
     ]
    }
   ],
   "source": [
    "pprint(project.agents.list_messages(thread_jane.id))"
   ]
  },
  {
   "cell_type": "markdown",
   "metadata": {},
   "source": [
    "At this point, we created a thread containing only one message. As you can see, the thread or message are not linked to any assistant. You can validate that looking the **run_id** and **assistant_id** properties for messages where the role is **user**.\n",
    "\n",
    "Now, it's time to ask the agent to reason over the message the user sent and generate a reply. This is represented by a run object. To create a run we nee\n",
    "\n",
    "Let's create a simple Python function called run to abstract all"
   ]
  },
  {
   "cell_type": "code",
   "execution_count": 13,
   "metadata": {},
   "outputs": [
    {
     "name": "stdout",
     "output_type": "stream",
     "text": [
      "{'id': 'run_v4wBfJHLIBbsdodStvb8cG0Y',\n",
      " 'object': 'thread.run',\n",
      " 'created_at': 1736762084,\n",
      " 'assistant_id': 'asst_sgLTaEs43HwJZaMA1krFiD90',\n",
      " 'thread_id': 'thread_hPoaxCoU76zyHK6m0xYQRogH',\n",
      " 'status': 'completed',\n",
      " 'started_at': 1736762085,\n",
      " 'expires_at': None,\n",
      " 'cancelled_at': None,\n",
      " 'failed_at': None,\n",
      " 'completed_at': 1736762089,\n",
      " 'required_action': None,\n",
      " 'last_error': None,\n",
      " 'model': 'gpt-4o-mini',\n",
      " 'instructions': 'You are a financial agent, providing portfolio guidance for users. Avoid using '\n",
      "                 'too technical terms, and be clear about the risks.',\n",
      " 'tools': [],\n",
      " 'tool_resources': {},\n",
      " 'metadata': {},\n",
      " 'temperature': 1.0,\n",
      " 'top_p': 1.0,\n",
      " 'max_completion_tokens': None,\n",
      " 'max_prompt_tokens': None,\n",
      " 'truncation_strategy': {'type': 'auto', 'last_messages': None},\n",
      " 'incomplete_details': None,\n",
      " 'usage': {'prompt_tokens': 81, 'completion_tokens': 458, 'total_tokens': 539},\n",
      " 'response_format': 'auto',\n",
      " 'tool_choice': 'auto',\n",
      " 'parallel_tool_calls': True}\n"
     ]
    }
   ],
   "source": [
    "pprint(run(thread_jane, portfolio_agent))"
   ]
  },
  {
   "cell_type": "code",
   "execution_count": 14,
   "metadata": {},
   "outputs": [
    {
     "name": "stdout",
     "output_type": "stream",
     "text": [
      "{'object': 'list',\n",
      " 'data': [{'id': 'msg_UuuWJ76MMPLmWie1tqyCgB8Q',\n",
      "           'object': 'thread.message',\n",
      "           'created_at': 1736762085,\n",
      "           'assistant_id': 'asst_sgLTaEs43HwJZaMA1krFiD90',\n",
      "           'thread_id': 'thread_hPoaxCoU76zyHK6m0xYQRogH',\n",
      "           'run_id': 'run_v4wBfJHLIBbsdodStvb8cG0Y',\n",
      "           'role': 'assistant',\n",
      "           'content': [{'type': 'text',\n",
      "                        'text': {'value': 'Choosing the best option to invest your money depends '\n",
      "                                          'on your individual financial goals, risk tolerance, and '\n",
      "                                          'time horizon. Here are a few options you might '\n",
      "                                          'consider, along with some risks associated with each:\\n'\n",
      "                                          '\\n'\n",
      "                                          '1. **Savings Account**: A simple and secure way to save '\n",
      "                                          'money. Interest rates might be low, but your money is '\n",
      "                                          'safe and easily accessible.\\n'\n",
      "                                          '\\n'\n",
      "                                          '   - *Risk*: Very low, but your money may not grow much '\n",
      "                                          'after inflation.\\n'\n",
      "                                          '\\n'\n",
      "                                          '2. **Certificates of Deposit (CDs)**: These are time '\n",
      "                                          'deposits that pay a fixed interest rate over a '\n",
      "                                          'specified term.\\n'\n",
      "                                          '\\n'\n",
      "                                          '   - *Risk*: Low, but your money is locked in for the '\n",
      "                                          'term you choose, and early withdrawal can lead to '\n",
      "                                          'penalties.\\n'\n",
      "                                          '\\n'\n",
      "                                          '3. **Bonds**: Buying bonds is like lending money to a '\n",
      "                                          'company or government in exchange for interest payments '\n",
      "                                          'over time.\\n'\n",
      "                                          '\\n'\n",
      "                                          '   - *Risk*: Generally low to moderate, but if interest '\n",
      "                                          'rates rise, the value of your bond may go down.\\n'\n",
      "                                          '\\n'\n",
      "                                          '4. **Stocks**: Buying shares of companies can lead to '\n",
      "                                          'potential high returns.\\n'\n",
      "                                          '\\n'\n",
      "                                          '   - *Risk*: High, as stock prices can be volatile and '\n",
      "                                          'there’s a chance you could lose your investment.\\n'\n",
      "                                          '\\n'\n",
      "                                          '5. **Index Funds or ETFs (Exchange-Traded Funds)**: '\n",
      "                                          'These are collections of stocks or bonds that track a '\n",
      "                                          'specific index.\\n'\n",
      "                                          '\\n'\n",
      "                                          '   - *Risk*: Moderate to high, but they tend to offer '\n",
      "                                          'diversification, which can help spread risk.\\n'\n",
      "                                          '\\n'\n",
      "                                          '6. **Real Estate**: Investing in property can provide '\n",
      "                                          'rental income and potential appreciation.\\n'\n",
      "                                          '\\n'\n",
      "                                          '   - *Risk*: Moderate to high, as property values can '\n",
      "                                          'fluctuate, and there are costs associated with '\n",
      "                                          'maintenance and management.\\n'\n",
      "                                          '\\n'\n",
      "                                          '7. **Retirement Accounts (like 401(k) or IRA)**: These '\n",
      "                                          'accounts offer tax advantages for retirement savings.\\n'\n",
      "                                          '\\n'\n",
      "                                          '   - *Risk*: Depends on how you invest within the '\n",
      "                                          'account; a diversified approach can help manage risk.\\n'\n",
      "                                          '\\n'\n",
      "                                          'Before investing, think about:\\n'\n",
      "                                          '- **Your goals**: Are you saving for a house, '\n",
      "                                          'retirement, or education?\\n'\n",
      "                                          '- **How long you plan to invest**: Longer time frames '\n",
      "                                          'can take on more risk.\\n'\n",
      "                                          '- **Your comfort with risk**: How would you feel if the '\n",
      "                                          'value of your investment dropped?\\n'\n",
      "                                          '\\n'\n",
      "                                          \"It's always a good idea to talk to a financial advisor \"\n",
      "                                          'to tailor a plan that fits your specific situation.',\n",
      "                                 'annotations': []}}],\n",
      "           'attachments': [],\n",
      "           'metadata': {}},\n",
      "          {'id': 'msg_m14XNzpojDiloOieCdOQXbE6',\n",
      "           'object': 'thread.message',\n",
      "           'created_at': 1736762077,\n",
      "           'assistant_id': None,\n",
      "           'thread_id': 'thread_hPoaxCoU76zyHK6m0xYQRogH',\n",
      "           'run_id': None,\n",
      "           'role': 'user',\n",
      "           'content': [{'type': 'text',\n",
      "                        'text': {'value': 'What is the best option to invest my money?',\n",
      "                                 'annotations': []}}],\n",
      "           'attachments': [],\n",
      "           'metadata': {}}],\n",
      " 'first_id': 'msg_UuuWJ76MMPLmWie1tqyCgB8Q',\n",
      " 'last_id': 'msg_m14XNzpojDiloOieCdOQXbE6',\n",
      " 'has_more': False}\n"
     ]
    }
   ],
   "source": [
    "pprint(project.agents.list_messages(thread_jane.id))"
   ]
  },
  {
   "cell_type": "markdown",
   "metadata": {},
   "source": [
    "Now, let's add a new message to the same thread."
   ]
  },
  {
   "cell_type": "code",
   "execution_count": 15,
   "metadata": {},
   "outputs": [
    {
     "name": "stdout",
     "output_type": "stream",
     "text": [
      "{'id': 'msg_Lnuktlxghd6MplXnAFYysMLT',\n",
      " 'object': 'thread.message',\n",
      " 'created_at': 1736762114,\n",
      " 'assistant_id': None,\n",
      " 'thread_id': 'thread_hPoaxCoU76zyHK6m0xYQRogH',\n",
      " 'run_id': None,\n",
      " 'role': 'user',\n",
      " 'content': [{'type': 'text',\n",
      "              'text': {'value': 'What are the branding guidelines I need to follow?',\n",
      "                       'annotations': []}}],\n",
      " 'attachments': [],\n",
      " 'metadata': {}}\n"
     ]
    }
   ],
   "source": [
    "message = project.agents.create_message(\n",
    "    thread_id=thread_jane.id,\n",
    "    role=\"user\",\n",
    "    content=\"What are the branding guidelines I need to follow?\",\n",
    ")\n",
    "pprint(message)"
   ]
  },
  {
   "cell_type": "markdown",
   "metadata": {},
   "source": [
    "Let's see the "
   ]
  },
  {
   "cell_type": "code",
   "execution_count": 16,
   "metadata": {},
   "outputs": [
    {
     "name": "stdout",
     "output_type": "stream",
     "text": [
      "{'object': 'list',\n",
      " 'data': [{'id': 'msg_Lnuktlxghd6MplXnAFYysMLT',\n",
      "           'object': 'thread.message',\n",
      "           'created_at': 1736762114,\n",
      "           'assistant_id': None,\n",
      "           'thread_id': 'thread_hPoaxCoU76zyHK6m0xYQRogH',\n",
      "           'run_id': None,\n",
      "           'role': 'user',\n",
      "           'content': [{'type': 'text',\n",
      "                        'text': {'value': 'What are the branding guidelines I need to follow?',\n",
      "                                 'annotations': []}}],\n",
      "           'attachments': [],\n",
      "           'metadata': {}},\n",
      "          {'id': 'msg_UuuWJ76MMPLmWie1tqyCgB8Q',\n",
      "           'object': 'thread.message',\n",
      "           'created_at': 1736762085,\n",
      "           'assistant_id': 'asst_sgLTaEs43HwJZaMA1krFiD90',\n",
      "           'thread_id': 'thread_hPoaxCoU76zyHK6m0xYQRogH',\n",
      "           'run_id': 'run_v4wBfJHLIBbsdodStvb8cG0Y',\n",
      "           'role': 'assistant',\n",
      "           'content': [{'type': 'text',\n",
      "                        'text': {'value': 'Choosing the best option to invest your money depends '\n",
      "                                          'on your individual financial goals, risk tolerance, and '\n",
      "                                          'time horizon. Here are a few options you might '\n",
      "                                          'consider, along with some risks associated with each:\\n'\n",
      "                                          '\\n'\n",
      "                                          '1. **Savings Account**: A simple and secure way to save '\n",
      "                                          'money. Interest rates might be low, but your money is '\n",
      "                                          'safe and easily accessible.\\n'\n",
      "                                          '\\n'\n",
      "                                          '   - *Risk*: Very low, but your money may not grow much '\n",
      "                                          'after inflation.\\n'\n",
      "                                          '\\n'\n",
      "                                          '2. **Certificates of Deposit (CDs)**: These are time '\n",
      "                                          'deposits that pay a fixed interest rate over a '\n",
      "                                          'specified term.\\n'\n",
      "                                          '\\n'\n",
      "                                          '   - *Risk*: Low, but your money is locked in for the '\n",
      "                                          'term you choose, and early withdrawal can lead to '\n",
      "                                          'penalties.\\n'\n",
      "                                          '\\n'\n",
      "                                          '3. **Bonds**: Buying bonds is like lending money to a '\n",
      "                                          'company or government in exchange for interest payments '\n",
      "                                          'over time.\\n'\n",
      "                                          '\\n'\n",
      "                                          '   - *Risk*: Generally low to moderate, but if interest '\n",
      "                                          'rates rise, the value of your bond may go down.\\n'\n",
      "                                          '\\n'\n",
      "                                          '4. **Stocks**: Buying shares of companies can lead to '\n",
      "                                          'potential high returns.\\n'\n",
      "                                          '\\n'\n",
      "                                          '   - *Risk*: High, as stock prices can be volatile and '\n",
      "                                          'there’s a chance you could lose your investment.\\n'\n",
      "                                          '\\n'\n",
      "                                          '5. **Index Funds or ETFs (Exchange-Traded Funds)**: '\n",
      "                                          'These are collections of stocks or bonds that track a '\n",
      "                                          'specific index.\\n'\n",
      "                                          '\\n'\n",
      "                                          '   - *Risk*: Moderate to high, but they tend to offer '\n",
      "                                          'diversification, which can help spread risk.\\n'\n",
      "                                          '\\n'\n",
      "                                          '6. **Real Estate**: Investing in property can provide '\n",
      "                                          'rental income and potential appreciation.\\n'\n",
      "                                          '\\n'\n",
      "                                          '   - *Risk*: Moderate to high, as property values can '\n",
      "                                          'fluctuate, and there are costs associated with '\n",
      "                                          'maintenance and management.\\n'\n",
      "                                          '\\n'\n",
      "                                          '7. **Retirement Accounts (like 401(k) or IRA)**: These '\n",
      "                                          'accounts offer tax advantages for retirement savings.\\n'\n",
      "                                          '\\n'\n",
      "                                          '   - *Risk*: Depends on how you invest within the '\n",
      "                                          'account; a diversified approach can help manage risk.\\n'\n",
      "                                          '\\n'\n",
      "                                          'Before investing, think about:\\n'\n",
      "                                          '- **Your goals**: Are you saving for a house, '\n",
      "                                          'retirement, or education?\\n'\n",
      "                                          '- **How long you plan to invest**: Longer time frames '\n",
      "                                          'can take on more risk.\\n'\n",
      "                                          '- **Your comfort with risk**: How would you feel if the '\n",
      "                                          'value of your investment dropped?\\n'\n",
      "                                          '\\n'\n",
      "                                          \"It's always a good idea to talk to a financial advisor \"\n",
      "                                          'to tailor a plan that fits your specific situation.',\n",
      "                                 'annotations': []}}],\n",
      "           'attachments': [],\n",
      "           'metadata': {}},\n",
      "          {'id': 'msg_m14XNzpojDiloOieCdOQXbE6',\n",
      "           'object': 'thread.message',\n",
      "           'created_at': 1736762077,\n",
      "           'assistant_id': None,\n",
      "           'thread_id': 'thread_hPoaxCoU76zyHK6m0xYQRogH',\n",
      "           'run_id': None,\n",
      "           'role': 'user',\n",
      "           'content': [{'type': 'text',\n",
      "                        'text': {'value': 'What is the best option to invest my money?',\n",
      "                                 'annotations': []}}],\n",
      "           'attachments': [],\n",
      "           'metadata': {}}],\n",
      " 'first_id': 'msg_Lnuktlxghd6MplXnAFYysMLT',\n",
      " 'last_id': 'msg_m14XNzpojDiloOieCdOQXbE6',\n",
      " 'has_more': False}\n"
     ]
    }
   ],
   "source": [
    "pprint(project.agents.list_messages(thread_jane.id))"
   ]
  },
  {
   "cell_type": "code",
   "execution_count": null,
   "metadata": {},
   "outputs": [],
   "source": [
    "pprint(run(thread_jane, branding_agent))"
   ]
  },
  {
   "cell_type": "code",
   "execution_count": null,
   "metadata": {},
   "outputs": [],
   "source": [
    "pprint(project.agents.list_messages(thread_jane.id))"
   ]
  },
  {
   "cell_type": "markdown",
   "metadata": {},
   "source": []
  },
  {
   "cell_type": "markdown",
   "metadata": {},
   "source": [
    "## Giving arms and legs to agents with tools\n",
    "\n",
    "An agent without any tool\n",
    "\n",
    "### Generating and executing code with Code Interpreter\n",
    "\n"
   ]
  },
  {
   "cell_type": "code",
   "execution_count": null,
   "metadata": {},
   "outputs": [],
   "source": [
    "code_interpreter = CodeInterpreterTool()\n",
    "\n",
    "portfolio_agent = project.agents.update_agent(portfolio_agent.id, tools=code_interpreter.definitions, tool_resources=code_interpreter.resources)\n",
    "pprint(portfolio_agent)"
   ]
  },
  {
   "cell_type": "code",
   "execution_count": null,
   "metadata": {},
   "outputs": [],
   "source": [
    "thread_bill = project.agents.create_thread(\n",
    "    metadata= {\n",
    "        \"entraUserId\": \"444dfd30-8420-4a8d-b155-4b5f05994545\"\n",
    "    }\n",
    ")\n",
    "pprint(thread_bill)"
   ]
  },
  {
   "cell_type": "code",
   "execution_count": null,
   "metadata": {},
   "outputs": [],
   "source": [
    "message = project.agents.create_message(\n",
    "    thread_id=thread_bill.id,\n",
    "    role=\"user\",\n",
    "    content=\"Create a bar chart for the operating profit using the following data and provide the file to me? Company A: $1.2 million, Company B: $2.5 million, Company C: $3.0 million, Company D: $1.8 million\",\n",
    ")\n",
    "pprint(message)"
   ]
  },
  {
   "cell_type": "code",
   "execution_count": null,
   "metadata": {},
   "outputs": [],
   "source": [
    "pprint(project.agents.list_messages(thread_bill.id))"
   ]
  },
  {
   "cell_type": "code",
   "execution_count": null,
   "metadata": {},
   "outputs": [],
   "source": [
    "pprint(run(thread_bill, portfolio_agent))"
   ]
  },
  {
   "cell_type": "code",
   "execution_count": null,
   "metadata": {},
   "outputs": [],
   "source": [
    "pprint(project.agents.list_messages(thread_bill.id))"
   ]
  },
  {
   "cell_type": "code",
   "execution_count": null,
   "metadata": {},
   "outputs": [],
   "source": [
    "pprint(project.agents.list_files())"
   ]
  },
  {
   "cell_type": "markdown",
   "metadata": {},
   "source": [
    "### Retrieving data from Internet using Bing Search"
   ]
  },
  {
   "cell_type": "code",
   "execution_count": 60,
   "metadata": {},
   "outputs": [],
   "source": [
    "bing_connection = project.connections.get(\n",
    "    connection_name=\"api\"\n",
    ")\n",
    "\n",
    "bing = BingGroundingTool(connection_id=bing_connection.id)"
   ]
  },
  {
   "cell_type": "code",
   "execution_count": null,
   "metadata": {},
   "outputs": [],
   "source": [
    "news_agent = project.agents.create_agent(\n",
    "    model=\"gpt-4o-2024-08-06\",\n",
    "    name=\"News\",\n",
    "    instructions=\"You are a news agent, providing updated information for our users.\",\n",
    "    description=\"This agent was created to provide updated news for our users.\",\n",
    "    tools=bing.definitions,\n",
    "    metadata= {\n",
    "        \"department\": \"marketing\",\n",
    "        \"owner\": \"joanna\"\n",
    "    }\n",
    ")\n",
    "pprint(news_agent)"
   ]
  },
  {
   "cell_type": "code",
   "execution_count": null,
   "metadata": {},
   "outputs": [],
   "source": [
    "thread_alice = project.agents.create_thread(\n",
    "    metadata= {\n",
    "        \"entraUserId\": \"444dfd30-8420-4a8d-b155-4b5f05994545\"\n",
    "    }\n",
    ")\n",
    "pprint(thread_alice)"
   ]
  },
  {
   "cell_type": "code",
   "execution_count": null,
   "metadata": {},
   "outputs": [],
   "source": [
    "message = project.agents.create_message(\n",
    "    thread_id=thread_alice.id,\n",
    "    role=\"user\",\n",
    "    content=\"What is the latest news about quantum computing?\",\n",
    ")\n",
    "pprint(message)"
   ]
  },
  {
   "cell_type": "code",
   "execution_count": null,
   "metadata": {},
   "outputs": [],
   "source": [
    "pprint(run(thread_alice, news_agent))"
   ]
  },
  {
   "cell_type": "code",
   "execution_count": null,
   "metadata": {},
   "outputs": [],
   "source": [
    "pprint(project.agents.list_messages(thread_alice.id))"
   ]
  },
  {
   "cell_type": "markdown",
   "metadata": {},
   "source": [
    "### Using a custom function"
   ]
  }
 ],
 "metadata": {
  "kernelspec": {
   "display_name": "Python 3",
   "language": "python",
   "name": "python3"
  },
  "language_info": {
   "codemirror_mode": {
    "name": "ipython",
    "version": 3
   },
   "file_extension": ".py",
   "mimetype": "text/x-python",
   "name": "python",
   "nbconvert_exporter": "python",
   "pygments_lexer": "ipython3",
   "version": "3.12.1"
  }
 },
 "nbformat": 4,
 "nbformat_minor": 2
}
